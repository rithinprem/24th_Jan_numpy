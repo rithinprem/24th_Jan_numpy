{
 "cells": [
  {
   "cell_type": "code",
   "execution_count": null,
   "id": "cca202ce-cbe3-4069-901e-0dcde0f66936",
   "metadata": {},
   "outputs": [],
   "source": [
    "# 1. What is a Python library? Why ^o we use Python libraries?\n",
    "\n",
    "# A Python library is a collection of modules and functions that provide pre-written, reusable code\n",
    "# to perform common tasks. These libraries extend the capabilities of the Python programming language \n",
    "# and allow developers to save time by leveraging existing solutions instead of writing code from scratch.\n",
    "# Libraries can cover a wide range of functionalities, from mathematical operations to web development, data manipulation,\n",
    "# machine learning, and more."
   ]
  },
  {
   "cell_type": "code",
   "execution_count": null,
   "id": "4cd09b06-ec52-499c-9b68-ce0bdaf61e76",
   "metadata": {},
   "outputs": [],
   "source": [
    "#2. What is the difference between Numpy array and List?\n",
    "\n",
    "# NumPy arrays and Python lists are both used to store collections of items, but they have several differences.\n",
    "# Here are some key distinctions:\n",
    "\n",
    "# Type of Elements:\n",
    "\n",
    "# NumPy Array: All elements in a NumPy array must be of the same data type. NumPy arrays are homogeneous.\n",
    "# List: Lists can contain elements of different data types. Python lists are heterogeneous.\n",
    "\n",
    "# Performance:\n",
    "\n",
    "# NumPy Array: NumPy arrays are more efficient for numerical operations. They are implemented in C and optimized for performance.\n",
    "# List: Lists are more flexible but may be less efficient for numerical operations due to their flexibility.\n",
    "\n",
    "# Size:\n",
    "\n",
    "# NumPy Array: NumPy arrays are more memory-efficient than lists. They use a contiguous block of memory for storage, \n",
    "# which reduces overhead.\n",
    "# List: Lists have more overhead and are less memory-efficient compared to NumPy arrays.\n",
    "\n",
    "\n",
    "# Functionality:\n",
    "\n",
    "# NumPy Array: NumPy provides a wide range of mathematical operations that can be applied to entire arrays without using\n",
    "# explicit loops. This is known as vectorization.\n",
    "# List: Lists are more general-purpose and provide basic operations, but for complex mathematical operations, you often \n",
    "# need to use loops.\n",
    "\n",
    "\n",
    "# Syntax:\n",
    "\n",
    "# NumPy Array: NumPy provides a specialized array object (numpy.ndarray) with its own set of functions and methods.\n",
    "# List: Lists are part of the Python core language and have a simpler syntax.\n",
    "\n",
    "\n",
    "# Additional Features:\n",
    "\n",
    "# NumPy Array: NumPy arrays come with advanced features such as broadcasting, slicing, and reshaping, making them powerful\n",
    "# for numerical computing.\n",
    "# List: Lists are more general-purpose and do not have specialized features for numerical operations."
   ]
  },
  {
   "cell_type": "code",
   "execution_count": 11,
   "id": "c6dec9f4-d2fb-48f1-adc8-5495393a0081",
   "metadata": {},
   "outputs": [
    {
     "name": "stdout",
     "output_type": "stream",
     "text": [
      "(3, 4)\n",
      "12\n",
      "2\n"
     ]
    }
   ],
   "source": [
    "# 3. Fin^ the shape, size and dimension of the following array?\n",
    "# [[1, 2, 3, 4]\n",
    "# [5, 6, 7, 8],\n",
    "# [9, 10, 11, 12]]\n",
    "\n",
    "\n",
    "import numpy as np\n",
    "\n",
    "lis = [[1, 2, 3, 4],\n",
    "[5, 6, 7, 8],\n",
    "[9, 10, 11, 12]]\n",
    "\n",
    "arr = np.array(lis)\n",
    "print(arr.shape)\n",
    "print(arr.size)\n",
    "print(arr.ndim)"
   ]
  },
  {
   "cell_type": "code",
   "execution_count": 18,
   "id": "a48f3a5a-4463-49cd-9675-0741d2fe0ca1",
   "metadata": {},
   "outputs": [
    {
     "name": "stdout",
     "output_type": "stream",
     "text": [
      "[1 2 3 4]\n"
     ]
    }
   ],
   "source": [
    "# 4. Write python code to access the first row of the following array?\n",
    "# [[1, 2, 3, 4]\n",
    "# [5, 6, 7, 8],\n",
    "# [9, 10, 11, 12]]\n",
    "\n",
    "import numpy as np\n",
    "\n",
    "arr = np.array([[1, 2, 3, 4],\n",
    "[5, 6, 7, 8],\n",
    "[9, 10, 11, 12]])\n",
    "\n",
    "print(arr[0,:])"
   ]
  },
  {
   "cell_type": "code",
   "execution_count": 20,
   "id": "ce1fa000-72f6-454f-9344-b52965359cc3",
   "metadata": {},
   "outputs": [
    {
     "name": "stdout",
     "output_type": "stream",
     "text": [
      "12\n"
     ]
    }
   ],
   "source": [
    "# 5. How do you access the element at the third row and fourth column from the given numpy array?\n",
    "# [[1, 2, 3, 4]\n",
    "# [5, 6, 7, 8],\n",
    "# [9, 10, 11, 12]]\n",
    "\n",
    "import numpy as np\n",
    "\n",
    "arr = np.array([[1, 2, 3, 4],\n",
    "[5, 6, 7, 8],\n",
    "[9, 10, 11, 12]])\n",
    "\n",
    "print(arr[2,3])"
   ]
  },
  {
   "cell_type": "code",
   "execution_count": 30,
   "id": "848ebe06-80f4-4197-9929-5d1f6151c0bc",
   "metadata": {},
   "outputs": [
    {
     "data": {
      "text/plain": [
       "array([[5, 6, 7, 8]])"
      ]
     },
     "execution_count": 30,
     "metadata": {},
     "output_type": "execute_result"
    }
   ],
   "source": [
    "# 6. Write code to extract all odd-indexed elements from the given numpy array?\n",
    "# [[1, 2, 3, 4]\n",
    "# [5, 6, 7, 8],\n",
    "# [9, 10, 11, 12]]\n",
    "\n",
    "import numpy as np\n",
    "\n",
    "arr = np.array([[1, 2, 3, 4],\n",
    "[5, 6, 7, 8],\n",
    "[9, 10, 11, 12]])\n",
    "\n",
    "odd_indexed_elements = arr[1::2,:]\n",
    "odd_indexed_elements"
   ]
  },
  {
   "cell_type": "code",
   "execution_count": 43,
   "id": "7b6a3a48-7ab1-4635-afdf-0ba2691fba42",
   "metadata": {},
   "outputs": [
    {
     "name": "stdout",
     "output_type": "stream",
     "text": [
      "[[1 0 1]\n",
      " [0 0 0]\n",
      " [1 0 0]]\n"
     ]
    }
   ],
   "source": [
    "# 7. How can you generate a random 3x3 matrix with values between 0 and 1?\n",
    "\n",
    "import numpy as np\n",
    "\n",
    "arr = np.random.randint(0,2,(3,3))\n",
    "print(arr)"
   ]
  },
  {
   "cell_type": "code",
   "execution_count": 28,
   "id": "5089adf5-c486-461a-ba07-a65aa4bfa01c",
   "metadata": {},
   "outputs": [
    {
     "name": "stdout",
     "output_type": "stream",
     "text": [
      "[[0.3800413  0.20462609 0.68349186]\n",
      " [0.21291378 0.72248446 0.62852843]]\n",
      "[[ 1.07537641  0.19342699  0.91852199]\n",
      " [-0.59263899  1.41355526 -0.67030345]]\n"
     ]
    }
   ],
   "source": [
    "# 8. Describe the difference between np.random.rand and np.random.randn?\n",
    "\n",
    "# np.random.rand:\n",
    "\n",
    "# Functionality: Generates random numbers from a uniform distribution(When we say random numbers are uniformly distributed\n",
    "#                 between 0 and 1, it means that each number in the range [0, 1) has an equal probability of being generated.) \n",
    "#                 over the interval [0, 1).\n",
    "# Shape: Accepts dimensions as separate arguments (not as a tuple).\n",
    "# Example:\n",
    "\n",
    "print(np.random.rand(2, 3))  # Generates a 2x3 array of random numbers between\n",
    "                                   \n",
    "                                   \n",
    "                                   \n",
    "# np.random.randn:\n",
    "\n",
    "# Functionality: Generates random numbers from a standard normal distribution (mean = 0, standard deviation = 1).\n",
    "# Shape: Accepts dimensions as separate arguments (not as a tuple).\n",
    "# Numbers generated from this distribution can take any real value, and they are more likely to be close to 0 (the mean)\n",
    "# and less likely to be far from 0.\n",
    "# Example:\n",
    "\n",
    "print(np.random.randn(2, 3)) # Generates a 2x3 array of random numbers from a standard normal distribution"
   ]
  },
  {
   "cell_type": "code",
   "execution_count": 51,
   "id": "5adf1002-f8e6-41cd-a52a-0497e882da35",
   "metadata": {},
   "outputs": [
    {
     "name": "stdout",
     "output_type": "stream",
     "text": [
      "[[[ 1]\n",
      "  [ 2]\n",
      "  [ 3]\n",
      "  [ 4]]\n",
      "\n",
      " [[ 5]\n",
      "  [ 6]\n",
      "  [ 7]\n",
      "  [ 8]]\n",
      "\n",
      " [[ 9]\n",
      "  [10]\n",
      "  [11]\n",
      "  [12]]]\n"
     ]
    }
   ],
   "source": [
    "# 9. Write code to increase the dimension of the following array?\n",
    "# [[1, 2, 3, 4],\n",
    "# [5, 6, 7, 8],\n",
    "# [9, 10, 11, 12]]\n",
    "\n",
    "import numpy as np\n",
    "\n",
    "arr = np.array([[1, 2, 3, 4],\n",
    "[5, 6, 7, 8],\n",
    "[9, 10, 11, 12]])\n",
    "\n",
    "arr = arr[:,:,np.newaxis]\n",
    "print(arr)"
   ]
  },
  {
   "cell_type": "code",
   "execution_count": 55,
   "id": "992237f6-f208-4a90-90a9-c8b30ddd366c",
   "metadata": {},
   "outputs": [
    {
     "name": "stdout",
     "output_type": "stream",
     "text": [
      "[[ 1  5  9]\n",
      " [ 2  6 10]\n",
      " [ 3  7 11]\n",
      " [ 4  8 12]]\n"
     ]
    }
   ],
   "source": [
    "# 10. How to transpose the following array in NumPy?\n",
    "# [[1, 2, 3, 4]\n",
    "# [5, 6, 7, 8],\n",
    "# [9, 10, 11, 12]]\n",
    "\n",
    "import numpy as np\n",
    "\n",
    "arr = np.array([[1, 2, 3, 4],\n",
    "[5, 6, 7, 8],\n",
    "[9, 10, 11, 12]])\n",
    "\n",
    "print(arr.T)"
   ]
  },
  {
   "cell_type": "code",
   "execution_count": 70,
   "id": "e34bdeb6-e3d5-4900-8f0a-ce46a467a1b7",
   "metadata": {},
   "outputs": [
    {
     "name": "stdout",
     "output_type": "stream",
     "text": [
      "[[  1   4   9  16]\n",
      " [ 25  36  49  64]\n",
      " [ 81 100 121 144]]\n",
      "\n",
      "[[ 30  70 110]\n",
      " [ 70 174 278]\n",
      " [110 278 446]]\n",
      "\n",
      "[[ 2  4  6  8]\n",
      " [10 12 14 16]\n",
      " [18 20 22 24]]\n",
      "\n",
      "[[0 0 0 0]\n",
      " [0 0 0 0]\n",
      " [0 0 0 0]]\n",
      "\n",
      "[[1. 1. 1. 1.]\n",
      " [1. 1. 1. 1.]\n",
      " [1. 1. 1. 1.]]\n"
     ]
    }
   ],
   "source": [
    "# 11. Consider the following matrix:\n",
    "# Matrix A2 [[1, 2, 3, 4] [5, 6, 7, 8],[9, 10, 11, 12]]\n",
    "# Matrix B2 [[1, 2, 3, 4] [5, 6, 7, 8],[9, 10, 11, 12]]\n",
    "# Perform the following operation using Python1\n",
    "# 1) Index wise multiplication\n",
    "# 2) Matix multiplication\n",
    "# 3) Add both the matix\n",
    "# 4) Subtact matix B from A\n",
    "# 5) Divide Matix B by A\n",
    "\n",
    "\n",
    "import numpy as np\n",
    "\n",
    "A2 =  [[1, 2, 3, 4],[5, 6, 7, 8],[9, 10, 11, 12]]\n",
    "B2 =  [[1, 2, 3, 4],[5, 6, 7, 8],[9, 10, 11, 12]]\n",
    "\n",
    "A2 = np.array(A2)\n",
    "B2 = np.array(B2)\n",
    "\n",
    "product_index_wise = A2*B2\n",
    "matrix_multiplication = np.matmul(A2,B2.T)\n",
    "matrix_add = A2 + B2\n",
    "difference = A2-B2\n",
    "divide = B2 / A2\n",
    "\n",
    "\n",
    "print(product_index_wise)\n",
    "print()\n",
    "print(matrix_multiplication)\n",
    "print()\n",
    "print(matrix_add)\n",
    "print()\n",
    "print(difference)\n",
    "print()\n",
    "print(divide)"
   ]
  },
  {
   "cell_type": "code",
   "execution_count": 29,
   "id": "659ec665-af65-49da-9881-32a0c42595fe",
   "metadata": {},
   "outputs": [
    {
     "name": "stdout",
     "output_type": "stream",
     "text": [
      "Original array: [1 2 3 4]\n",
      "Byteswapped array: [16777216 33554432 50331648 67108864]\n"
     ]
    }
   ],
   "source": [
    "# 12. Which function in Numpy can be used to swap the byte order of an array?\n",
    "import numpy as np\n",
    "\n",
    "# Create an array with some data\n",
    "arr = np.array([1, 2, 3, 4], dtype=np.int32)\n",
    "\n",
    "# Swap the byte order\n",
    "arr_byteswapped = arr.byteswap()\n",
    "\n",
    "print(\"Original array:\", arr)\n",
    "print(\"Byteswapped array:\", arr_byteswapped)\n",
    "\n"
   ]
  },
  {
   "cell_type": "code",
   "execution_count": 49,
   "id": "3929fc98-0228-4e5e-a54f-cb71655fd350",
   "metadata": {},
   "outputs": [
    {
     "name": "stdout",
     "output_type": "stream",
     "text": [
      "Original Matrix:\n",
      "[[4 7]\n",
      " [2 6]]\n",
      "\n",
      "Inverse Matrix:\n",
      "[[ 0.6 -0.7]\n",
      " [-0.2  0.4]]\n",
      "\n",
      "Verification (should be Identity Matrix):\n",
      "[[ 1.00000000e+00 -1.11022302e-16]\n",
      " [ 1.11022302e-16  1.00000000e+00]]\n"
     ]
    }
   ],
   "source": [
    "# 13. What is the significance of the np.linalg.inv function?\n",
    "\n",
    "# The np.linalg.inv function in NumPy is used to compute the (multiplicative) inverse of a square matrix. \n",
    "# In linear algebra, the inverse of a matrix is a matrix that, when multiplied with the original matrix, \n",
    "# gives the identity matrix.\n",
    "\n",
    "import numpy as np\n",
    "\n",
    "# Define a 2x2 matrix\n",
    "A = np.array([[4, 7], [2, 6]])\n",
    "\n",
    "# Calculate the inverse\n",
    "A_inv = np.linalg.inv(A)\n",
    "\n",
    "print(\"Original Matrix:\")\n",
    "print(A)\n",
    "\n",
    "print(\"\\nInverse Matrix:\")\n",
    "print(A_inv)\n",
    "\n",
    "# Verify: A * A_inv should be the identity matrix\n",
    "identity_matrix = np.dot(A, A_inv)\n",
    "print(\"\\nVerification (should be Identity Matrix):\")\n",
    "print(identity_matrix)\n"
   ]
  },
  {
   "cell_type": "code",
   "execution_count": 50,
   "id": "a3ce4f08-82cf-4b76-b92c-d03d97bc4ccd",
   "metadata": {},
   "outputs": [
    {
     "name": "stdout",
     "output_type": "stream",
     "text": [
      "Original 1D Array:\n",
      "[ 0  1  2  3  4  5  6  7  8  9 10 11]\n",
      "\n",
      "Reshaped 2D Array (3x4):\n",
      "[[ 0  1  2  3]\n",
      " [ 4  5  6  7]\n",
      " [ 8  9 10 11]]\n",
      "\n",
      "Reshaped 2D Array (2x6):\n",
      "[[ 0  1  2  3  4  5]\n",
      " [ 6  7  8  9 10 11]]\n",
      "\n",
      "Reshaped 3D Array (2x2x3):\n",
      "[[[ 0  1  2]\n",
      "  [ 3  4  5]]\n",
      "\n",
      " [[ 6  7  8]\n",
      "  [ 9 10 11]]]\n"
     ]
    }
   ],
   "source": [
    "# 14. What does the np.reshape function do, and how is it used?\n",
    "\n",
    "import numpy as np\n",
    "\n",
    "# Create a 1D array with 12 elements\n",
    "arr_1d = np.arange(12)\n",
    "print(\"Original 1D Array:\")\n",
    "print(arr_1d)\n",
    "\n",
    "# Reshape the 1D array into a 3x4 2D array\n",
    "arr_2d = np.reshape(arr_1d, (3, 4))\n",
    "print(\"\\nReshaped 2D Array (3x4):\")\n",
    "print(arr_2d)\n",
    "\n",
    "# Reshape the 1D array into a 2x6 2D array\n",
    "arr_2d_2 = np.reshape(arr_1d, (2, 6))\n",
    "print(\"\\nReshaped 2D Array (2x6):\")\n",
    "print(arr_2d_2)\n",
    "\n",
    "# Reshape the 1D array into a 3D array with shape (2, 2, 3)\n",
    "arr_3d = np.reshape(arr_1d, (2, 2, 3))\n",
    "print(\"\\nReshaped 3D Array (2x2x3):\")\n",
    "print(arr_3d)\n"
   ]
  },
  {
   "cell_type": "code",
   "execution_count": 52,
   "id": "d2bc1821-2dfb-4ea3-a0f4-e2175e1bc0e6",
   "metadata": {},
   "outputs": [
    {
     "name": "stdout",
     "output_type": "stream",
     "text": [
      "Original Array:\n",
      "[1 2 3]\n",
      "\n",
      "Broadcasted Result:\n",
      "[3 4 5]\n"
     ]
    }
   ],
   "source": [
    "# 15. What is broadcasting in Numpy?\n",
    "\n",
    "# Broadcasting in NumPy is a mechanism that allows arrays of different shapes to be combined, or \"broadcasted,\"\n",
    "# to perform arithmetic operations without explicitly reshaping the arrays. This makes it possible to perform \n",
    "# element-wise operations on arrays of different shapes and sizes.\n",
    "\n",
    "import numpy as np\n",
    "\n",
    "# 1D array\n",
    "arr1 = np.array([1, 2, 3])\n",
    "\n",
    "# Scalar\n",
    "scalar = 2\n",
    "\n",
    "# Broadcasting: Adding a scalar to a 1D array\n",
    "result = arr1 + scalar\n",
    "\n",
    "print(\"Original Array:\")\n",
    "print(arr1)\n",
    "\n",
    "print(\"\\nBroadcasted Result:\")\n",
    "print(result)\n",
    "\n",
    "\n",
    "# In this example, the scalar value 2 is broadcasted to each element of the 1D array arr1. The result is [3, 4, 5].\n",
    "# The scalar is effectively treated as a 1D array with a shape of (1,), and it gets broadcasted along the dimension\n",
    "# of the array.\n",
    "\n",
    "# Broadcasting simplifies the syntax of array operations and improves code readability. It allows for more concise\n",
    "# and expressive code when working with arrays of different shapes. However, it's essential to understand the broadcasting\n",
    "# rules to avoid unexpected behavior."
   ]
  }
 ],
 "metadata": {
  "kernelspec": {
   "display_name": "Python 3 (ipykernel)",
   "language": "python",
   "name": "python3"
  },
  "language_info": {
   "codemirror_mode": {
    "name": "ipython",
    "version": 3
   },
   "file_extension": ".py",
   "mimetype": "text/x-python",
   "name": "python",
   "nbconvert_exporter": "python",
   "pygments_lexer": "ipython3",
   "version": "3.10.8"
  }
 },
 "nbformat": 4,
 "nbformat_minor": 5
}
